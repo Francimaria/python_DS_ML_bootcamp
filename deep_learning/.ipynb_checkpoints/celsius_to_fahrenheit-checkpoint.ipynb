{
 "cells": [
  {
   "cell_type": "markdown",
   "metadata": {
    "id": "Sgn7hViRHPyI"
   },
   "source": [
    "# **The Basics**\n",
    "\n",
    "The problem we will solve is to convert from Celsius to fahrenheit, where the appropriate formula is:\n",
    "\n",
    "$$f = c \\times 1.8+32$$\n"
   ]
  },
  {
   "cell_type": "markdown",
   "metadata": {
    "id": "LaEvcjqXIHmq"
   },
   "source": [
    "**Import dependencies**"
   ]
  },
  {
   "cell_type": "code",
   "execution_count": null,
   "metadata": {
    "id": "ITnD61rHCqvR"
   },
   "outputs": [],
   "source": [
    "#It only display erros\n",
    "import tensorflow as tf\n",
    "tf.compat.v1.logging.set_verbosity(tf.compat.v1.logging.ERROR)\n",
    "\n",
    "import numpy as np"
   ]
  },
  {
   "cell_type": "markdown",
   "metadata": {
    "id": "qhe7JxhLJjAA"
   },
   "source": [
    "**Set up training data**\n"
   ]
  },
  {
   "cell_type": "code",
   "execution_count": null,
   "metadata": {
    "colab": {
     "base_uri": "https://localhost:8080/"
    },
    "id": "_ZgRcwRpJpEU",
    "outputId": "88b60f7a-6f28-4806-d88c-0c898797d875"
   },
   "outputs": [
    {
     "name": "stdout",
     "output_type": "stream",
     "text": [
      "-40.0 degrees Celsius = -40.0 degrees Fahrenheit\n",
      "-10.0 degrees Celsius = 14.0 degrees Fahrenheit\n",
      "0.0 degrees Celsius = 32.0 degrees Fahrenheit\n",
      "8.0 degrees Celsius = 46.0 degrees Fahrenheit\n",
      "15.0 degrees Celsius = 59.0 degrees Fahrenheit\n",
      "22.0 degrees Celsius = 72.0 degrees Fahrenheit\n",
      "38.0 degrees Celsius = 100.0 degrees Fahrenheit\n"
     ]
    }
   ],
   "source": [
    "celsius_q = np.array([-40, -10, 0, 8, 15, 22, 38], dtype=float)\n",
    "fahrenheit_a = np.array([-40, 14, 32, 46, 59, 72, 100], dtype=float)\n",
    "\n",
    "for i,c in enumerate(celsius_q):\n",
    "  print(\"{} degrees Celsius = {} degrees Fahrenheit\".format(c, fahrenheit_a[i]))"
   ]
  },
  {
   "cell_type": "markdown",
   "metadata": {
    "id": "iqFi4gwfLDkq"
   },
   "source": [
    "## **Model**\n",
    "**Build a layer**\n",
    "\n",
    "\n",
    "\n",
    "*   Input_shape=[1] -- This specifies that the input to this layer is a single value. \n",
    "*   units=1 -- This specifies the number of neurons in the layer. \n",
    "\n",
    "\n"
   ]
  },
  {
   "cell_type": "code",
   "execution_count": null,
   "metadata": {
    "id": "yqlLCsTdKyRb"
   },
   "outputs": [],
   "source": [
    "lo = tf.keras.layers.Dense(units=1,input_shape=[1])"
   ]
  },
  {
   "cell_type": "markdown",
   "metadata": {
    "id": "OhX_Y9miMrTK"
   },
   "source": [
    "**Assemble layers into the model**\n",
    "\n",
    "The Sequential model definition takes a list of layers as argument, specifying the calculation order from the input to the output."
   ]
  },
  {
   "cell_type": "code",
   "execution_count": null,
   "metadata": {
    "id": "RcHs96jBNKks"
   },
   "outputs": [],
   "source": [
    "model = tf.keras.Sequential([lo])"
   ]
  },
  {
   "cell_type": "markdown",
   "metadata": {
    "id": "lX-jp0dhN7Cc"
   },
   "source": [
    "**Compile the model, with loss and optimizer functions**\n",
    "\n",
    "Before training, the model has to be compiled, when compiled for training, the model is given:\n",
    "\n",
    "\n",
    "*   **Loss function** - A way of measuring how far off predictions are from the desired outcome.\n",
    "*   **Optimizer function** -  A way of adjusting internal values in order to reduce the loss.\n",
    "\n"
   ]
  },
  {
   "cell_type": "code",
   "execution_count": null,
   "metadata": {
    "id": "GnIdEAEOP4Iq"
   },
   "outputs": [],
   "source": [
    "model.compile(loss='mean_squared_error',\n",
    "              optimizer=tf.keras.optimizers.Adam(0.1))"
   ]
  },
  {
   "cell_type": "markdown",
   "metadata": {
    "id": "34ZnpryOQvxm"
   },
   "source": [
    "**Train the model**"
   ]
  },
  {
   "cell_type": "code",
   "execution_count": null,
   "metadata": {
    "colab": {
     "base_uri": "https://localhost:8080/"
    },
    "id": "KomwM44tQvI-",
    "outputId": "fcb9fd7b-2759-48d8-e56e-dd44a9c51230"
   },
   "outputs": [
    {
     "name": "stdout",
     "output_type": "stream",
     "text": [
      "Finished training the model\n"
     ]
    }
   ],
   "source": [
    "history = model.fit(celsius_q, fahrenheit_a, epochs=500, verbose=False)\n",
    "\n",
    "print(\"Finished training the model\")"
   ]
  },
  {
   "cell_type": "markdown",
   "metadata": {
    "id": "nlwtIyDaRM6w"
   },
   "source": [
    "**Display training statistics**"
   ]
  },
  {
   "cell_type": "code",
   "execution_count": null,
   "metadata": {
    "colab": {
     "base_uri": "https://localhost:8080/",
     "height": 296
    },
    "id": "mIQN8TJ-RUhb",
    "outputId": "80cf0689-97ba-4bf3-a0a3-e7673f808751"
   },
   "outputs": [
    {
     "data": {
      "text/plain": [
       "[<matplotlib.lines.Line2D at 0x7fb28b651910>]"
      ]
     },
     "execution_count": 21,
     "metadata": {},
     "output_type": "execute_result"
    },
    {
     "data": {
      "image/png": "[encoded data removed]",
      "text/plain": [
       "<Figure size 432x288 with 1 Axes>"
      ]
     },
     "metadata": {
      "needs_background": "light"
     },
     "output_type": "display_data"
    }
   ],
   "source": [
    "import matplotlib.pyplot as plt\n",
    "\n",
    "plt.xlabel(\"Epoch Number\")\n",
    "plt.ylabel(\"Loss Magnitude\")\n",
    "\n",
    "plt.plot(history.history['loss'])"
   ]
  },
  {
   "cell_type": "markdown",
   "metadata": {
    "id": "nDRLGHhvSNHT"
   },
   "source": [
    "**Predict values**"
   ]
  },
  {
   "cell_type": "code",
   "execution_count": null,
   "metadata": {
    "colab": {
     "base_uri": "https://localhost:8080/"
    },
    "id": "G6_xgVnmSS41",
    "outputId": "6a9f0f20-58a3-45a2-d9e7-ee6c3d67615e"
   },
   "outputs": [
    {
     "name": "stdout",
     "output_type": "stream",
     "text": [
      "[[211.29938]]\n"
     ]
    }
   ],
   "source": [
    "print(model.predict([100.0]))"
   ]
  },
  {
   "cell_type": "markdown",
   "metadata": {
    "id": "7HtviYDPSq4B"
   },
   "source": [
    "**Layer weights**"
   ]
  },
  {
   "cell_type": "code",
   "execution_count": null,
   "metadata": {
    "colab": {
     "base_uri": "https://localhost:8080/"
    },
    "id": "i52sgIBBSpnj",
    "outputId": "a6ce4b5d-8f30-4be8-f29a-ea6c840b5f20"
   },
   "outputs": [
    {
     "name": "stdout",
     "output_type": "stream",
     "text": [
      "There are the layer variables: [array([[1.8257391]], dtype=float32), array([28.725471], dtype=float32)]\n"
     ]
    }
   ],
   "source": [
    "print(\"There are the layer variables: {}\".format(lo.get_weights()))"
   ]
  }
 ],
 "metadata": {
  "colab": {
   "name": "celsius_to_fahrenheit",
   "provenance": []
  },
  "kernelspec": {
   "display_name": "Python 3",
   "language": "python",
   "name": "python3"
  },
  "language_info": {
   "codemirror_mode": {
    "name": "ipython",
    "version": 3
   },
   "file_extension": ".py",
   "mimetype": "text/x-python",
   "name": "python",
   "nbconvert_exporter": "python",
   "pygments_lexer": "ipython3",
   "version": "3.8.10"
  }
 },
 "nbformat": 4,
 "nbformat_minor": 1
}
