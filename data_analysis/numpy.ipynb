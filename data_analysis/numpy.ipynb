{
 "cells": [
  {
   "cell_type": "markdown",
   "id": "9d012b26",
   "metadata": {},
   "source": [
    "# Numpy arrays"
   ]
  },
  {
   "cell_type": "code",
   "execution_count": 1,
   "id": "7803e10e",
   "metadata": {},
   "outputs": [],
   "source": [
    "my_list = [1,2,3]"
   ]
  },
  {
   "cell_type": "code",
   "execution_count": 3,
   "id": "c59bde46",
   "metadata": {},
   "outputs": [],
   "source": [
    "import numpy as np"
   ]
  },
  {
   "cell_type": "code",
   "execution_count": 7,
   "id": "ecd9c2c8",
   "metadata": {},
   "outputs": [
    {
     "data": {
      "text/plain": [
       "array([1, 2, 3])"
      ]
     },
     "execution_count": 7,
     "metadata": {},
     "output_type": "execute_result"
    }
   ],
   "source": [
    "arr = np.array(my_list)\n",
    "arr"
   ]
  },
  {
   "cell_type": "code",
   "execution_count": 9,
   "id": "a910531f",
   "metadata": {},
   "outputs": [],
   "source": [
    "my_mat = [[1,2,3],[4,5,6],[7,8,9]]"
   ]
  },
  {
   "cell_type": "code",
   "execution_count": 11,
   "id": "fd4be22f",
   "metadata": {},
   "outputs": [
    {
     "data": {
      "text/plain": [
       "array([[1, 2, 3],\n",
       "       [4, 5, 6],\n",
       "       [7, 8, 9]])"
      ]
     },
     "execution_count": 11,
     "metadata": {},
     "output_type": "execute_result"
    }
   ],
   "source": [
    "np.array(my_mat)"
   ]
  },
  {
   "cell_type": "code",
   "execution_count": 18,
   "id": "41f0e318",
   "metadata": {},
   "outputs": [
    {
     "data": {
      "text/plain": [
       "array([ 0,  1,  2,  3,  4,  5,  6,  7,  8,  9, 10])"
      ]
     },
     "execution_count": 18,
     "metadata": {},
     "output_type": "execute_result"
    }
   ],
   "source": [
    "np.arange(0,11)"
   ]
  },
  {
   "cell_type": "code",
   "execution_count": 24,
   "id": "7af720bf",
   "metadata": {},
   "outputs": [
    {
     "data": {
      "text/plain": [
       "array([[0, 0, 0],\n",
       "       [0, 0, 0],\n",
       "       [0, 0, 0]])"
      ]
     },
     "execution_count": 24,
     "metadata": {},
     "output_type": "execute_result"
    }
   ],
   "source": [
    "np.zeros((3,3), dtype=int)"
   ]
  },
  {
   "cell_type": "markdown",
   "id": "39ca6510",
   "metadata": {},
   "source": [
    "### Linspace \n"
   ]
  },
  {
   "cell_type": "code",
   "execution_count": 32,
   "id": "a983c8c8",
   "metadata": {},
   "outputs": [
    {
     "data": {
      "text/plain": [
       "array([0.  , 1.25, 2.5 , 3.75, 5.  ])"
      ]
     },
     "execution_count": 32,
     "metadata": {},
     "output_type": "execute_result"
    }
   ],
   "source": [
    "#arguments(start, end, number of points)\n",
    "np.linspace(0,5,5)"
   ]
  },
  {
   "cell_type": "markdown",
   "id": "e7a62a72",
   "metadata": {},
   "source": [
    "### Identity matrix"
   ]
  },
  {
   "cell_type": "code",
   "execution_count": 76,
   "id": "f1e6da52",
   "metadata": {},
   "outputs": [
    {
     "name": "stdout",
     "output_type": "stream",
     "text": [
      "Matrix \n",
      " [[1 2 3]\n",
      " [4 5 6]\n",
      " [7 8 9]]\n",
      "\n",
      "Identity \n",
      " [[1. 0. 0.]\n",
      " [0. 1. 0.]\n",
      " [0. 0. 1.]] \n",
      "\n",
      "Main diagonal \n",
      " [[1. 0. 0.]\n",
      " [0. 5. 0.]\n",
      " [0. 0. 9.]] \n"
     ]
    }
   ],
   "source": [
    "matrix = np.arange(1,10)\n",
    "matrix = matrix.reshape(3,3)\n",
    "\n",
    "print(\"Matrix \\n {}\".format(matrix))\n",
    "\n",
    "ident = np.eye(3)\n",
    "print(\"\\nIdentity \\n {} \".format(ident))\n",
    "\n",
    "main_diag = matrix*ident\n",
    "\n",
    "print(\"\\nMain diagonal \\n {} \".format(main_diag))\n"
   ]
  },
  {
   "cell_type": "markdown",
   "id": "9dcda837",
   "metadata": {},
   "source": [
    "### Random arrays"
   ]
  },
  {
   "cell_type": "code",
   "execution_count": 51,
   "id": "c9659264",
   "metadata": {},
   "outputs": [
    {
     "data": {
      "text/plain": [
       "array([0.073968  , 0.29170404, 0.80976983, 0.14182479, 0.82540294])"
      ]
     },
     "execution_count": 51,
     "metadata": {},
     "output_type": "execute_result"
    }
   ],
   "source": [
    "np.random.rand(5)"
   ]
  },
  {
   "cell_type": "code",
   "execution_count": 57,
   "id": "78014135",
   "metadata": {},
   "outputs": [
    {
     "data": {
      "text/plain": [
       "array([0.29752707, 0.45558605, 0.85796835, 0.64997022, 0.57210047])"
      ]
     },
     "execution_count": 57,
     "metadata": {},
     "output_type": "execute_result"
    }
   ],
   "source": [
    "# 0 to 1\n",
    "np.random.rand(5)"
   ]
  },
  {
   "cell_type": "markdown",
   "id": "b59e3e66",
   "metadata": {},
   "source": [
    "### Normal distribution \n",
    "    "
   ]
  },
  {
   "cell_type": "code",
   "execution_count": 60,
   "id": "b7d677b9",
   "metadata": {},
   "outputs": [
    {
     "data": {
      "text/plain": [
       "array([ 0.23366391, -0.12037927])"
      ]
     },
     "execution_count": 60,
     "metadata": {},
     "output_type": "execute_result"
    }
   ],
   "source": [
    "np.random.randn(2)"
   ]
  },
  {
   "cell_type": "markdown",
   "id": "66f53a84",
   "metadata": {},
   "source": [
    " ### Rand integer"
   ]
  },
  {
   "cell_type": "code",
   "execution_count": 66,
   "id": "dcf2b582",
   "metadata": {},
   "outputs": [
    {
     "data": {
      "text/plain": [
       "array([88, 43, 96, 15,  7])"
      ]
     },
     "execution_count": 66,
     "metadata": {},
     "output_type": "execute_result"
    }
   ],
   "source": [
    "# low, high, size\n",
    "np.random.randint(1,100,5)"
   ]
  },
  {
   "cell_type": "code",
   "execution_count": 68,
   "id": "928feb41",
   "metadata": {},
   "outputs": [],
   "source": [
    "arr = np.arange(25)"
   ]
  },
  {
   "cell_type": "code",
   "execution_count": 74,
   "id": "b0893a4c",
   "metadata": {},
   "outputs": [
    {
     "data": {
      "text/plain": [
       "array([[ 0,  1,  2,  3,  4],\n",
       "       [ 5,  6,  7,  8,  9],\n",
       "       [10, 11, 12, 13, 14],\n",
       "       [15, 16, 17, 18, 19],\n",
       "       [20, 21, 22, 23, 24]])"
      ]
     },
     "execution_count": 74,
     "metadata": {},
     "output_type": "execute_result"
    }
   ],
   "source": [
    "arr.reshape(5,5)"
   ]
  },
  {
   "cell_type": "code",
   "execution_count": 90,
   "id": "235f8182",
   "metadata": {},
   "outputs": [],
   "source": [
    "ranarr = np.random.randint(0,50,25)\n",
    "ranarr = ranarr.reshape(5,5)"
   ]
  },
  {
   "cell_type": "code",
   "execution_count": 95,
   "id": "c6b2b6dd",
   "metadata": {},
   "outputs": [
    {
     "name": "stdout",
     "output_type": "stream",
     "text": [
      "Array: \n",
      " [[20 45  5 24 24]\n",
      " [34 30 16 30 42]\n",
      " [ 0 46 19 14 34]\n",
      " [29 32 48 39  8]\n",
      " [17 44 32 17  6]] \n",
      " Shape: (5, 5), DataType: int64 \n",
      "\n",
      "Max value: 48 -- Index: 17\n",
      "\n",
      "Min value: 0 -- Index: 10 \n",
      "\n"
     ]
    }
   ],
   "source": [
    "print(\"Array: \\n {} \\n Shape: {}, DataType: {} \\n\".format(ranarr, ranarr.shape, ranarr.dtype))\n",
    "print(\"Max value: {} -- Index: {}\\n\".format(ranarr.max(), ranarr.argmax()))\n",
    "print(\"Min value: {} -- Index: {} \\n\".format(ranarr.min(), ranarr.argmin()))"
   ]
  },
  {
   "cell_type": "code",
   "execution_count": null,
   "id": "9750ca6f",
   "metadata": {},
   "outputs": [],
   "source": []
  }
 ],
 "metadata": {
  "kernelspec": {
   "display_name": "Python 3",
   "language": "python",
   "name": "python3"
  },
  "language_info": {
   "codemirror_mode": {
    "name": "ipython",
    "version": 3
   },
   "file_extension": ".py",
   "mimetype": "text/x-python",
   "name": "python",
   "nbconvert_exporter": "python",
   "pygments_lexer": "ipython3",
   "version": "3.8.3"
  }
 },
 "nbformat": 4,
 "nbformat_minor": 5
}
